{
 "cells": [
  {
   "cell_type": "code",
   "execution_count": 19,
   "metadata": {},
   "outputs": [],
   "source": [
    "import argparse\n",
    "from pathlib import Path\n",
    "import zipfile\n",
    "\n",
    "def unpack_zip(zip_path, encoding='cp866'):\n",
    "    # Определение имени архива и директории для распаковки\n",
    "    zip_path = Path(zip_path)\n",
    "    unpack_dir = zip_path.parent / zip_path.stem\n",
    "\n",
    "    # Распаковка архива\n",
    "    with zipfile.ZipFile(zip_path, 'r') as zip_ref:\n",
    "        # Получаем список файлов в архиве\n",
    "        file_list = zip_ref.namelist()\n",
    "\n",
    "        # Если все файлы находятся в одной папке в корне архива\n",
    "        if len(set(path.split('/')[0] for path in file_list)) == 1:\n",
    "            unpack_dir = zip_path.parent\n",
    "\n",
    "        for info in zip_ref.infolist():\n",
    "            info.filename = info.filename.encode('cp437').decode(encoding)\n",
    "            zip_ref.extract(info, unpack_dir)\n",
    "\n",
    "if __name__ == \"__main__\":\n",
    "    parser = argparse.ArgumentParser(description='Unpack a zip archive.')\n",
    "    parser.add_argument('zip_path', type=str, help='Path to the zip archive')\n",
    "    parser.add_argument('-e', '--encoding', type=str, default='cp866', \n",
    "                        help='Encoding of the file names in the zip archive. Common options are \"cp437\", \"cp866\", \"cp1251\", \"utf-8\". Default is \"cp866\".')\n",
    "\n",
    "    args = parser.parse_args()\n",
    "    unpack_zip(args.zip_path, args.encoding)\n"
   ]
  },
  {
   "cell_type": "code",
   "execution_count": 24,
   "metadata": {},
   "outputs": [],
   "source": [
    "arch_file = '29022024_103222.zip'\n",
    "\n",
    "import shutil\n",
    "\n",
    "# Удаляем директорию вместе с содержимым\n",
    "shutil.rmtree(Path(Path(arch_file).stem))"
   ]
  },
  {
   "cell_type": "code",
   "execution_count": 23,
   "metadata": {},
   "outputs": [],
   "source": [
    "unpack_zip(arch_file)"
   ]
  },
  {
   "cell_type": "code",
   "execution_count": 16,
   "metadata": {},
   "outputs": [
    {
     "name": "stdout",
     "output_type": "stream",
     "text": [
      "26.02.2024_1220_26.02.2024_3.24-Вн-10224/\n",
      "26.02.2024_1220_26.02.2024_3.24-Вн-10224/Бланк письма Агентство ЗАГС ЭП.pdf\n",
      "26.02.2024_1220_26.02.2024_3.24-Вн-10224/Бланк письма Агентство ЗАГС.docx\n",
      "26.02.2024_1220_26.02.2024_3.24-Вн-10224/Приказ.pdf\n"
     ]
    }
   ],
   "source": [
    "with zipfile.ZipFile(arch_file, 'r') as zip_ref:\n",
    "        for info in zip_ref.infolist():\n",
    "            info.filename = info.filename.encode('cp437').decode('cp866')\n",
    "            print(info.filename)"
   ]
  }
 ],
 "metadata": {
  "kernelspec": {
   "display_name": ".venv",
   "language": "python",
   "name": "python3"
  },
  "language_info": {
   "codemirror_mode": {
    "name": "ipython",
    "version": 3
   },
   "file_extension": ".py",
   "mimetype": "text/x-python",
   "name": "python",
   "nbconvert_exporter": "python",
   "pygments_lexer": "ipython3",
   "version": "3.11.8"
  }
 },
 "nbformat": 4,
 "nbformat_minor": 2
}
